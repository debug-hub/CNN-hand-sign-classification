{
  "nbformat": 4,
  "nbformat_minor": 5,
  "metadata": {
    "kernelspec": {
      "display_name": "Python 3",
      "language": "python",
      "name": "python3"
    },
    "language_info": {
      "codemirror_mode": {
        "name": "ipython",
        "version": 3
      },
      "file_extension": ".py",
      "mimetype": "text/x-python",
      "name": "python",
      "nbconvert_exporter": "python",
      "pygments_lexer": "ipython3",
      "version": "3.8.8"
    },
    "colab": {
      "name": "CNN Hand Sign Classification_Project.ipynb",
      "provenance": []
    }
  },
  "cells": [
    {
      "cell_type": "code",
      "metadata": {
        "id": "10dd6f6d"
      },
      "source": [
        "import numpy as np \n",
        "import pandas as pd \n",
        "import matplotlib.pyplot as plt\n",
        "import tensorflow as tf"
      ],
      "id": "10dd6f6d",
      "execution_count": null,
      "outputs": []
    },
    {
      "cell_type": "code",
      "metadata": {
        "id": "67eff02b"
      },
      "source": [
        "x = np.load('X.npy')\n",
        "y = np.load('Y.npy')"
      ],
      "id": "67eff02b",
      "execution_count": null,
      "outputs": []
    },
    {
      "cell_type": "code",
      "metadata": {
        "id": "6feb647c"
      },
      "source": [
        "from sklearn.model_selection import train_test_split\n",
        "x_train,x_test,y_train,y_test=train_test_split(x,y,test_size=0.2)"
      ],
      "id": "6feb647c",
      "execution_count": null,
      "outputs": []
    },
    {
      "cell_type": "code",
      "metadata": {
        "colab": {
          "base_uri": "https://localhost:8080/"
        },
        "id": "6pF2JX0722j0",
        "outputId": "e17427af-664a-40b5-c8bd-2b3faec022df"
      },
      "source": [
        "x_train[0]"
      ],
      "id": "6pF2JX0722j0",
      "execution_count": null,
      "outputs": [
        {
          "output_type": "execute_result",
          "data": {
            "text/plain": [
              "array([[0.49019608, 0.49803922, 0.50980395, ..., 0.50980395, 0.49803922,\n",
              "        0.4862745 ],\n",
              "       [0.49803922, 0.5058824 , 0.52156866, ..., 0.5176471 , 0.5058824 ,\n",
              "        0.49411765],\n",
              "       [0.5019608 , 0.5137255 , 0.5254902 , ..., 0.5294118 , 0.5137255 ,\n",
              "        0.5019608 ],\n",
              "       ...,\n",
              "       [0.50980395, 0.5254902 , 0.53333336, ..., 0.5058824 , 0.49411765,\n",
              "        0.4862745 ],\n",
              "       [0.5058824 , 0.5137255 , 0.5254902 , ..., 0.5019608 , 0.49411765,\n",
              "        0.48235294],\n",
              "       [0.49803922, 0.5058824 , 0.5137255 , ..., 0.49019608, 0.4862745 ,\n",
              "        0.4745098 ]], dtype=float32)"
            ]
          },
          "metadata": {},
          "execution_count": 120
        }
      ]
    },
    {
      "cell_type": "code",
      "metadata": {
        "colab": {
          "base_uri": "https://localhost:8080/"
        },
        "id": "Tq5hYihKtFyk",
        "outputId": "8409050e-e0eb-4117-b73f-00dfc5a84264"
      },
      "source": [
        "print(x_train.shape)\n",
        "print(y_train.shape)\n",
        "print(x_test.shape)\n",
        "print(y_test.shape)"
      ],
      "id": "Tq5hYihKtFyk",
      "execution_count": null,
      "outputs": [
        {
          "output_type": "stream",
          "name": "stdout",
          "text": [
            "(1649, 64, 64)\n",
            "(1649, 10)\n",
            "(413, 64, 64)\n",
            "(413, 10)\n"
          ]
        }
      ]
    },
    {
      "cell_type": "code",
      "metadata": {
        "id": "uAe4DoXlu6rN"
      },
      "source": [
        "# x_train=x_train/255\n",
        "# x_test=x_test/255"
      ],
      "id": "uAe4DoXlu6rN",
      "execution_count": null,
      "outputs": []
    },
    {
      "cell_type": "code",
      "metadata": {
        "id": "Cdn12WXOvcmJ"
      },
      "source": [
        "x_train=x_train.reshape(1649,64,64,1)\n",
        "x_test=x_test.reshape(413,64,64,1)"
      ],
      "id": "Cdn12WXOvcmJ",
      "execution_count": null,
      "outputs": []
    },
    {
      "cell_type": "code",
      "metadata": {
        "id": "WOaAzGTzvOFf"
      },
      "source": [
        "from tensorflow.keras.utils import to_categorical"
      ],
      "id": "WOaAzGTzvOFf",
      "execution_count": null,
      "outputs": []
    },
    {
      "cell_type": "code",
      "metadata": {
        "colab": {
          "base_uri": "https://localhost:8080/"
        },
        "id": "cYqVaCmKv9-8",
        "outputId": "49bd6674-36a4-4af6-8b7d-02864ba2bfd4"
      },
      "source": [
        "print(x_train.shape)\n",
        "print(y_train.shape)\n",
        "print(x_test.shape)\n",
        "print(y_test.shape)"
      ],
      "id": "cYqVaCmKv9-8",
      "execution_count": null,
      "outputs": [
        {
          "output_type": "stream",
          "name": "stdout",
          "text": [
            "(1649, 64, 64, 1)\n",
            "(1649, 10)\n",
            "(413, 64, 64, 1)\n",
            "(413, 10)\n"
          ]
        }
      ]
    },
    {
      "cell_type": "code",
      "metadata": {
        "id": "3ZGKgHxAwAAE"
      },
      "source": [
        "from tensorflow.keras.models import Sequential\n",
        "from tensorflow.keras.layers import Conv2D,MaxPooling2D,Flatten,Dense"
      ],
      "id": "3ZGKgHxAwAAE",
      "execution_count": null,
      "outputs": []
    },
    {
      "cell_type": "code",
      "metadata": {
        "id": "as_NBiUJwNhG"
      },
      "source": [
        "m1=Sequential()\n",
        "m1.add(Conv2D(64,(3,3),activation='relu',input_shape=(64,64,1)))\n",
        "m1.add(MaxPooling2D(pool_size=(3,3)))\n",
        "m1.add(Conv2D(128,(3,3),activation='relu'))\n",
        "m1.add(MaxPooling2D(pool_size=(2,2)))\n",
        "m1.add(Flatten())\n",
        "m1.add(Dense(64,activation='relu'))\n",
        "m1.add(Dense(10,activation='softmax'))"
      ],
      "id": "as_NBiUJwNhG",
      "execution_count": null,
      "outputs": []
    },
    {
      "cell_type": "code",
      "metadata": {
        "id": "y0pi47xLxWSc"
      },
      "source": [
        "m1.compile(optimizer='adam',loss='categorical_crossentropy',metrics=['accuracy'])"
      ],
      "id": "y0pi47xLxWSc",
      "execution_count": null,
      "outputs": []
    },
    {
      "cell_type": "code",
      "metadata": {
        "colab": {
          "base_uri": "https://localhost:8080/"
        },
        "id": "34LTkvBHyS1M",
        "outputId": "8e78facc-fdf2-420e-c017-c41b8885ed43"
      },
      "source": [
        "h1=m1.fit(x_train,y_train,epochs=10,validation_data=(x_test,y_test))"
      ],
      "id": "34LTkvBHyS1M",
      "execution_count": null,
      "outputs": [
        {
          "output_type": "stream",
          "name": "stdout",
          "text": [
            "Epoch 1/10\n",
            "52/52 [==============================] - 27s 235ms/step - loss: 2.2816 - accuracy: 0.1971 - val_loss: 2.1816 - val_accuracy: 0.2010\n",
            "Epoch 2/10\n",
            "52/52 [==============================] - 12s 228ms/step - loss: 1.5266 - accuracy: 0.5130 - val_loss: 1.1157 - val_accuracy: 0.6223\n",
            "Epoch 3/10\n",
            "52/52 [==============================] - 11s 208ms/step - loss: 0.8170 - accuracy: 0.7307 - val_loss: 0.8463 - val_accuracy: 0.7167\n",
            "Epoch 4/10\n",
            "52/52 [==============================] - 11s 214ms/step - loss: 0.6392 - accuracy: 0.7829 - val_loss: 0.6452 - val_accuracy: 0.7942\n",
            "Epoch 5/10\n",
            "52/52 [==============================] - 11s 210ms/step - loss: 0.5325 - accuracy: 0.8278 - val_loss: 0.6311 - val_accuracy: 0.7990\n",
            "Epoch 6/10\n",
            "52/52 [==============================] - 11s 210ms/step - loss: 0.4704 - accuracy: 0.8435 - val_loss: 0.6240 - val_accuracy: 0.7918\n",
            "Epoch 7/10\n",
            "52/52 [==============================] - 11s 214ms/step - loss: 0.4193 - accuracy: 0.8575 - val_loss: 0.5397 - val_accuracy: 0.8426\n",
            "Epoch 8/10\n",
            "52/52 [==============================] - 11s 208ms/step - loss: 0.3658 - accuracy: 0.8830 - val_loss: 0.5325 - val_accuracy: 0.8354\n",
            "Epoch 9/10\n",
            "52/52 [==============================] - 11s 209ms/step - loss: 0.3172 - accuracy: 0.8963 - val_loss: 0.5807 - val_accuracy: 0.8257\n",
            "Epoch 10/10\n",
            "52/52 [==============================] - 11s 207ms/step - loss: 0.2675 - accuracy: 0.9181 - val_loss: 0.4789 - val_accuracy: 0.8644\n"
          ]
        }
      ]
    },
    {
      "cell_type": "code",
      "metadata": {
        "colab": {
          "base_uri": "https://localhost:8080/",
          "height": 205
        },
        "id": "iMxUhFYryj9Q",
        "outputId": "36615e0b-d3cd-43a0-c07b-27721d0d68d3"
      },
      "source": [
        "res=pd.DataFrame(h1.history)\n",
        "res['Epochs']=h1.epoch\n",
        "res.tail()"
      ],
      "id": "iMxUhFYryj9Q",
      "execution_count": null,
      "outputs": [
        {
          "output_type": "execute_result",
          "data": {
            "text/html": [
              "<div>\n",
              "<style scoped>\n",
              "    .dataframe tbody tr th:only-of-type {\n",
              "        vertical-align: middle;\n",
              "    }\n",
              "\n",
              "    .dataframe tbody tr th {\n",
              "        vertical-align: top;\n",
              "    }\n",
              "\n",
              "    .dataframe thead th {\n",
              "        text-align: right;\n",
              "    }\n",
              "</style>\n",
              "<table border=\"1\" class=\"dataframe\">\n",
              "  <thead>\n",
              "    <tr style=\"text-align: right;\">\n",
              "      <th></th>\n",
              "      <th>loss</th>\n",
              "      <th>accuracy</th>\n",
              "      <th>val_loss</th>\n",
              "      <th>val_accuracy</th>\n",
              "      <th>Epochs</th>\n",
              "    </tr>\n",
              "  </thead>\n",
              "  <tbody>\n",
              "    <tr>\n",
              "      <th>5</th>\n",
              "      <td>0.470412</td>\n",
              "      <td>0.843542</td>\n",
              "      <td>0.623993</td>\n",
              "      <td>0.791768</td>\n",
              "      <td>5</td>\n",
              "    </tr>\n",
              "    <tr>\n",
              "      <th>6</th>\n",
              "      <td>0.419287</td>\n",
              "      <td>0.857489</td>\n",
              "      <td>0.539699</td>\n",
              "      <td>0.842615</td>\n",
              "      <td>6</td>\n",
              "    </tr>\n",
              "    <tr>\n",
              "      <th>7</th>\n",
              "      <td>0.365806</td>\n",
              "      <td>0.882959</td>\n",
              "      <td>0.532516</td>\n",
              "      <td>0.835351</td>\n",
              "      <td>7</td>\n",
              "    </tr>\n",
              "    <tr>\n",
              "      <th>8</th>\n",
              "      <td>0.317203</td>\n",
              "      <td>0.896301</td>\n",
              "      <td>0.580693</td>\n",
              "      <td>0.825666</td>\n",
              "      <td>8</td>\n",
              "    </tr>\n",
              "    <tr>\n",
              "      <th>9</th>\n",
              "      <td>0.267467</td>\n",
              "      <td>0.918132</td>\n",
              "      <td>0.478866</td>\n",
              "      <td>0.864407</td>\n",
              "      <td>9</td>\n",
              "    </tr>\n",
              "  </tbody>\n",
              "</table>\n",
              "</div>"
            ],
            "text/plain": [
              "       loss  accuracy  val_loss  val_accuracy  Epochs\n",
              "5  0.470412  0.843542  0.623993      0.791768       5\n",
              "6  0.419287  0.857489  0.539699      0.842615       6\n",
              "7  0.365806  0.882959  0.532516      0.835351       7\n",
              "8  0.317203  0.896301  0.580693      0.825666       8\n",
              "9  0.267467  0.918132  0.478866      0.864407       9"
            ]
          },
          "metadata": {},
          "execution_count": 142
        }
      ]
    },
    {
      "cell_type": "code",
      "metadata": {
        "colab": {
          "base_uri": "https://localhost:8080/",
          "height": 281
        },
        "id": "Ir1zX9S3yzU3",
        "outputId": "74e35d30-0eb0-4286-887e-adfdb022114e"
      },
      "source": [
        "plt.plot(res['Epochs'],res['loss'],label='Training Loss')\n",
        "plt.plot(res['Epochs'],res['val_loss'],label='Testing Loss')\n",
        "plt.title('Training Vs Testing Loss')\n",
        "plt.legend()\n",
        "plt.show()"
      ],
      "id": "Ir1zX9S3yzU3",
      "execution_count": null,
      "outputs": [
        {
          "output_type": "display_data",
          "data": {
            "image/png": "[encoded data removed]",
            "text/plain": [
              "<Figure size 432x288 with 1 Axes>"
            ]
          },
          "metadata": {
            "needs_background": "light"
          }
        }
      ]
    },
    {
      "cell_type": "code",
      "metadata": {
        "colab": {
          "base_uri": "https://localhost:8080/",
          "height": 281
        },
        "id": "6mRfoPrYzavk",
        "outputId": "7ddf0319-b8eb-48ba-c947-d60e5b6e2cdb"
      },
      "source": [
        "plt.plot(res['Epochs'],res['accuracy'],label='Training accuracy')\n",
        "plt.plot(res['Epochs'],res['val_accuracy'],label='Testing accuracy')\n",
        "plt.title('Training Vs Testing accuracy')\n",
        "plt.legend()\n",
        "plt.show()"
      ],
      "id": "6mRfoPrYzavk",
      "execution_count": null,
      "outputs": [
        {
          "output_type": "display_data",
          "data": {
            "image/png": "[encoded data removed]",
            "text/plain": [
              "<Figure size 432x288 with 1 Axes>"
            ]
          },
          "metadata": {
            "needs_background": "light"
          }
        }
      ]
    },
    {
      "cell_type": "code",
      "metadata": {
        "colab": {
          "base_uri": "https://localhost:8080/"
        },
        "id": "h7DlGIvlzqxT",
        "outputId": "d5b45808-7aa5-494f-ed3d-616310eee410"
      },
      "source": [
        "y_pred=m1.predict(x_test)\n",
        "y_pred[:10]"
      ],
      "id": "h7DlGIvlzqxT",
      "execution_count": null,
      "outputs": [
        {
          "output_type": "execute_result",
          "data": {
            "text/plain": [
              "array([[6.61156185e-10, 2.53136735e-03, 1.01820531e-03, 7.46161095e-05,\n",
              "        1.70450646e-03, 5.12119300e-07, 1.62014203e-06, 3.97059252e-04,\n",
              "        9.94272113e-01, 1.14342678e-08],\n",
              "       [6.86454150e-05, 2.24566134e-06, 1.41863381e-06, 3.16597486e-08,\n",
              "        5.15813753e-03, 1.14214583e-06, 4.38507630e-09, 9.94572341e-01,\n",
              "        4.17294796e-05, 1.54256559e-04],\n",
              "       [9.62878585e-01, 2.06685993e-08, 1.37992347e-05, 1.15956834e-06,\n",
              "        1.56343951e-08, 1.09524503e-02, 2.62443227e-05, 1.37727820e-05,\n",
              "        5.38064171e-09, 2.61140000e-02],\n",
              "       [7.89373298e-04, 6.98374561e-06, 8.79405066e-02, 3.06366030e-02,\n",
              "        5.12094948e-06, 2.59314068e-02, 8.53293121e-01, 2.17204815e-05,\n",
              "        5.12986036e-04, 8.62054760e-04],\n",
              "       [8.92465591e-01, 5.48232174e-06, 3.74719093e-05, 8.65699633e-07,\n",
              "        2.24103715e-07, 9.09362957e-02, 6.08359078e-05, 1.63907916e-05,\n",
              "        1.40346756e-07, 1.64766815e-02],\n",
              "       [5.67001825e-06, 7.87420198e-02, 5.48412837e-03, 5.60669228e-04,\n",
              "        9.89378663e-04, 9.13360855e-04, 3.90792011e-05, 2.79948711e-02,\n",
              "        8.85257661e-01, 1.31146699e-05],\n",
              "       [4.11000848e-01, 2.85058704e-05, 3.45353881e-04, 1.44013466e-04,\n",
              "        1.88657723e-04, 8.60407650e-02, 1.30464279e-04, 9.48595405e-02,\n",
              "        8.94204550e-06, 4.07252878e-01],\n",
              "       [7.89805490e-04, 1.69546539e-07, 2.72931618e-04, 3.71696160e-07,\n",
              "        8.19457640e-08, 9.98859167e-01, 3.57243043e-05, 1.10772625e-07,\n",
              "        3.98330349e-06, 3.76762946e-05],\n",
              "       [2.76606902e-03, 2.94917504e-06, 2.78809050e-04, 4.81460984e-06,\n",
              "        3.07969299e-06, 3.18436651e-04, 2.89595017e-04, 5.81298918e-02,\n",
              "        1.37447723e-05, 9.38192606e-01],\n",
              "       [5.34181250e-04, 1.22383904e-06, 9.19919461e-03, 1.02730759e-07,\n",
              "        1.67602018e-04, 9.90064561e-01, 2.04253683e-05, 8.05755676e-08,\n",
              "        5.24787765e-07, 1.20846307e-05]], dtype=float32)"
            ]
          },
          "metadata": {},
          "execution_count": 145
        }
      ]
    },
    {
      "cell_type": "code",
      "metadata": {
        "colab": {
          "base_uri": "https://localhost:8080/"
        },
        "id": "F7-SAAHb0D68",
        "outputId": "628496aa-80f9-4024-bc30-5db949788c2a"
      },
      "source": [
        "y_pred=[np.argmax(i) for i in y_pred]\n",
        "y_pred[:10]"
      ],
      "id": "F7-SAAHb0D68",
      "execution_count": null,
      "outputs": [
        {
          "output_type": "execute_result",
          "data": {
            "text/plain": [
              "[8, 7, 0, 6, 0, 8, 0, 5, 9, 5]"
            ]
          },
          "metadata": {},
          "execution_count": 146
        }
      ]
    },
    {
      "cell_type": "code",
      "metadata": {
        "colab": {
          "base_uri": "https://localhost:8080/"
        },
        "id": "q82nLSUAz4ek",
        "outputId": "6b8b2143-46b7-4263-de7a-934b0ed5f28c"
      },
      "source": [
        "y_test1=[np.argmax(i) for i in y_test]\n",
        "y_test1[:10]"
      ],
      "id": "q82nLSUAz4ek",
      "execution_count": null,
      "outputs": [
        {
          "output_type": "execute_result",
          "data": {
            "text/plain": [
              "[8, 7, 0, 6, 0, 7, 0, 5, 9, 5]"
            ]
          },
          "metadata": {},
          "execution_count": 147
        }
      ]
    },
    {
      "cell_type": "code",
      "metadata": {
        "id": "jOxRV3B24dmJ"
      },
      "source": [
        "from sklearn.metrics import classification_report,confusion_matrix"
      ],
      "id": "jOxRV3B24dmJ",
      "execution_count": null,
      "outputs": []
    },
    {
      "cell_type": "code",
      "metadata": {
        "colab": {
          "base_uri": "https://localhost:8080/"
        },
        "id": "DIdyE0kl47ae",
        "outputId": "d81103c3-1e29-4969-d0f4-db760d80e48f"
      },
      "source": [
        "print(confusion_matrix(y_pred,y_test1))\n",
        "print(classification_report(y_pred,y_test1))"
      ],
      "id": "DIdyE0kl47ae",
      "execution_count": null,
      "outputs": [
        {
          "output_type": "stream",
          "name": "stdout",
          "text": [
            "[[58  1  0  0  0  1  0  1  0  0]\n",
            " [ 0 31  0  0  2  0  1  0  0  0]\n",
            " [ 0  0 32  0  1  0  1  0  2  0]\n",
            " [ 0  2  1 31  0  0  1  0  1  0]\n",
            " [ 1  0  0  0 29  0  0  0  1  0]\n",
            " [ 2  1  3  1  2 39  4  0  0  0]\n",
            " [ 0  0  2  2  0  0 34  0  0  0]\n",
            " [ 2  0  0  0  0  0  0 38  0  1]\n",
            " [ 0  0  3  8  3  2  0  1 28  0]\n",
            " [ 1  0  0  0  0  0  0  1  0 37]]\n",
            "              precision    recall  f1-score   support\n",
            "\n",
            "           0       0.91      0.95      0.93        61\n",
            "           1       0.89      0.91      0.90        34\n",
            "           2       0.78      0.89      0.83        36\n",
            "           3       0.74      0.86      0.79        36\n",
            "           4       0.78      0.94      0.85        31\n",
            "           5       0.93      0.75      0.83        52\n",
            "           6       0.83      0.89      0.86        38\n",
            "           7       0.93      0.93      0.93        41\n",
            "           8       0.88      0.62      0.73        45\n",
            "           9       0.97      0.95      0.96        39\n",
            "\n",
            "    accuracy                           0.86       413\n",
            "   macro avg       0.86      0.87      0.86       413\n",
            "weighted avg       0.87      0.86      0.86       413\n",
            "\n"
          ]
        }
      ]
    }
  ]
}